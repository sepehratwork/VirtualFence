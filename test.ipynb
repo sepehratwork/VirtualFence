{
 "cells": [
  {
   "cell_type": "code",
   "execution_count": 49,
   "source": [
    "import numpy as np\r\n",
    "\r\n",
    "k = 50\r\n",
    "k /= 100\r\n",
    "k += 1\r\n",
    "pts = np.array([(0,0),(100,0),(100,100),(0,100)])\r\n",
    "\r\n",
    "center = np.array([(0,0)])\r\n",
    "\r\n",
    "for i in range(len(pts)):\r\n",
    "    center[0][0] = center[0][0] + pts[i][0]\r\n",
    "    center[0][1] = center[0][1] + pts[i][1]\r\n",
    "\r\n",
    "center[0][0] = center[0][0] / len(pts)\r\n",
    "center[0][1] = center[0][1] / len(pts)\r\n",
    "\r\n",
    "margin = np.zeros(pts.shape)\r\n",
    "for i in range(len(margin)):\r\n",
    "    vector = pts[i] - center\r\n",
    "    margin[i] = (k * vector) + center\r\n",
    "\r\n",
    "margin\r\n"
   ],
   "outputs": [
    {
     "output_type": "execute_result",
     "data": {
      "text/plain": [
       "array([[-25., -25.],\n",
       "       [125., -25.],\n",
       "       [125., 125.],\n",
       "       [-25., 125.]])"
      ]
     },
     "metadata": {},
     "execution_count": 49
    }
   ],
   "metadata": {}
  },
  {
   "cell_type": "code",
   "execution_count": 55,
   "source": [
    "a = [[[287,115]], [[383,141]], [[364,214]], [[292,192]]]\r\n",
    "len(a)"
   ],
   "outputs": [
    {
     "output_type": "execute_result",
     "data": {
      "text/plain": [
       "4"
      ]
     },
     "metadata": {},
     "execution_count": 55
    }
   ],
   "metadata": {}
  }
 ],
 "metadata": {
  "kernelspec": {
   "name": "python3",
   "display_name": "Python 3.7.3 64-bit ('base': conda)"
  },
  "language_info": {
   "codemirror_mode": {
    "name": "ipython",
    "version": 3
   },
   "file_extension": ".py",
   "mimetype": "text/x-python",
   "name": "python",
   "nbconvert_exporter": "python",
   "pygments_lexer": "ipython3",
   "version": "3.7.3"
  },
  "interpreter": {
   "hash": "2e24e290142afc1b6d69f58a5dc9a95bc259706d3fb6a4adcc4bf3699b1f9a77"
  }
 },
 "nbformat": 4,
 "nbformat_minor": 2
}